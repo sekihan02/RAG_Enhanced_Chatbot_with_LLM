{
 "cells": [
  {
   "cell_type": "markdown",
   "id": "24d5c5f8-6e9f-4862-adf5-a8112b59c8d8",
   "metadata": {},
   "source": [
    "# LLMのRAGを使ったQABOT\n",
    "\n",
    "1. **データ取得**:\n",
    "    - ICML 2024の論文PDFを取得し、./icml_2024_papersディレクトリに格納する    <---- now\n",
    "2. **データの埋め込みベクトル化**:\n",
    "    - 取得したPDFからテキストを抽出し、ベクトル化する。\n",
    "3. **LLMのRAGモデルの設定**:\n",
    "    - 質問に対して関連する文書を検索し、その文書を基に回答を生成するRAGモデルを設定する。\n",
    "4. **QABOTの構築**:\n",
    "    - ユーザーインターフェースを作成し、ユーザーからの質問に対してRAGモデルを使って回答するQABOTを構築する。\n",
    "\n",
    "\n",
    "\n",
    "---\n",
    "\n",
    "<!-- 旧 -->\n",
    "<!-- 1. **データ取得**:\n",
    "    - ICML 2024の論文PDFを取得し、./icml_2024_papersディレクトリに格納する    <---- now\n",
    "2. **データの埋め込みベクトル化**:\n",
    "    - 取得したPDFからテキストを抽出し、ベクトル化する。\n",
    "3. **検索インデックスの構築**:\n",
    "    - ベクトル化されたデータを元に検索インデックスを構築する。\n",
    "4. **LLMのRAGモデルの設定**:\n",
    "    - 質問に対して関連する文書を検索し、その文書を基に回答を生成するRAGモデルを設定する。\n",
    "5. **QABOTの構築**:\n",
    "    - ユーザーインターフェースを作成し、ユーザーからの質問に対してRAGモデルを使って回答するQABOTを構築する。 -->"
   ]
  },
  {
   "cell_type": "code",
   "execution_count": 1,
   "id": "31ba1354-0f67-4b91-be00-8007d3350eb6",
   "metadata": {
    "scrolled": true,
    "tags": []
   },
   "outputs": [
    {
     "name": "stdout",
     "output_type": "stream",
     "text": [
      "Requirement already satisfied: selenium in /usr/local/lib/python3.10/dist-packages (4.22.0)\n",
      "Requirement already satisfied: urllib3<3,>=1.26 in /usr/local/lib/python3.10/dist-packages (from urllib3[socks]<3,>=1.26->selenium) (2.2.2)\n",
      "Requirement already satisfied: trio~=0.17 in /usr/local/lib/python3.10/dist-packages (from selenium) (0.26.0)\n",
      "Requirement already satisfied: trio-websocket~=0.9 in /usr/local/lib/python3.10/dist-packages (from selenium) (0.11.1)\n",
      "Requirement already satisfied: certifi>=2021.10.8 in /usr/local/lib/python3.10/dist-packages (from selenium) (2024.7.4)\n",
      "Requirement already satisfied: typing_extensions>=4.9.0 in /usr/local/lib/python3.10/dist-packages (from selenium) (4.12.2)\n",
      "Requirement already satisfied: websocket-client>=1.8.0 in /usr/local/lib/python3.10/dist-packages (from selenium) (1.8.0)\n",
      "Requirement already satisfied: attrs>=23.2.0 in /usr/local/lib/python3.10/dist-packages (from trio~=0.17->selenium) (23.2.0)\n",
      "Requirement already satisfied: sortedcontainers in /usr/local/lib/python3.10/dist-packages (from trio~=0.17->selenium) (2.4.0)\n",
      "Requirement already satisfied: idna in /usr/local/lib/python3.10/dist-packages (from trio~=0.17->selenium) (3.7)\n",
      "Requirement already satisfied: outcome in /usr/local/lib/python3.10/dist-packages (from trio~=0.17->selenium) (1.3.0.post0)\n",
      "Requirement already satisfied: sniffio>=1.3.0 in /usr/local/lib/python3.10/dist-packages (from trio~=0.17->selenium) (1.3.1)\n",
      "Requirement already satisfied: exceptiongroup in /usr/local/lib/python3.10/dist-packages (from trio~=0.17->selenium) (1.2.1)\n",
      "Requirement already satisfied: wsproto>=0.14 in /usr/local/lib/python3.10/dist-packages (from trio-websocket~=0.9->selenium) (1.2.0)\n",
      "Requirement already satisfied: pysocks!=1.5.7,<2.0,>=1.5.6 in /usr/local/lib/python3.10/dist-packages (from urllib3[socks]<3,>=1.26->selenium) (1.7.1)\n",
      "Requirement already satisfied: h11<1,>=0.9.0 in /usr/local/lib/python3.10/dist-packages (from wsproto>=0.14->trio-websocket~=0.9->selenium) (0.14.0)\n",
      "\u001b[33mWARNING: Running pip as the 'root' user can result in broken permissions and conflicting behaviour with the system package manager, possibly rendering your system unusable.It is recommended to use a virtual environment instead: https://pip.pypa.io/warnings/venv. Use the --root-user-action option if you know what you are doing and want to suppress this warning.\u001b[0m\u001b[33m\n",
      "\u001b[0mRequirement already satisfied: webdriver-manager in /usr/local/lib/python3.10/dist-packages (4.0.1)\n",
      "Requirement already satisfied: requests in /usr/local/lib/python3.10/dist-packages (from webdriver-manager) (2.31.0)\n",
      "Requirement already satisfied: python-dotenv in /usr/local/lib/python3.10/dist-packages (from webdriver-manager) (1.0.1)\n",
      "Requirement already satisfied: packaging in /usr/local/lib/python3.10/dist-packages (from webdriver-manager) (24.1)\n",
      "Requirement already satisfied: charset-normalizer<4,>=2 in /usr/local/lib/python3.10/dist-packages (from requests->webdriver-manager) (3.3.2)\n",
      "Requirement already satisfied: idna<4,>=2.5 in /usr/local/lib/python3.10/dist-packages (from requests->webdriver-manager) (3.7)\n",
      "Requirement already satisfied: urllib3<3,>=1.21.1 in /usr/local/lib/python3.10/dist-packages (from requests->webdriver-manager) (2.2.2)\n",
      "Requirement already satisfied: certifi>=2017.4.17 in /usr/local/lib/python3.10/dist-packages (from requests->webdriver-manager) (2024.7.4)\n",
      "\u001b[33mWARNING: Running pip as the 'root' user can result in broken permissions and conflicting behaviour with the system package manager, possibly rendering your system unusable.It is recommended to use a virtual environment instead: https://pip.pypa.io/warnings/venv. Use the --root-user-action option if you know what you are doing and want to suppress this warning.\u001b[0m\u001b[33m\n",
      "\u001b[0mRequirement already satisfied: arxiv==2.1.0 in /usr/local/lib/python3.10/dist-packages (2.1.0)\n",
      "Requirement already satisfied: feedparser==6.0.10 in /usr/local/lib/python3.10/dist-packages (from arxiv==2.1.0) (6.0.10)\n",
      "Requirement already satisfied: requests==2.31.0 in /usr/local/lib/python3.10/dist-packages (from arxiv==2.1.0) (2.31.0)\n",
      "Requirement already satisfied: sgmllib3k in /usr/local/lib/python3.10/dist-packages (from feedparser==6.0.10->arxiv==2.1.0) (1.0.0)\n",
      "Requirement already satisfied: charset-normalizer<4,>=2 in /usr/local/lib/python3.10/dist-packages (from requests==2.31.0->arxiv==2.1.0) (3.3.2)\n",
      "Requirement already satisfied: idna<4,>=2.5 in /usr/local/lib/python3.10/dist-packages (from requests==2.31.0->arxiv==2.1.0) (3.7)\n",
      "Requirement already satisfied: urllib3<3,>=1.21.1 in /usr/local/lib/python3.10/dist-packages (from requests==2.31.0->arxiv==2.1.0) (2.2.2)\n",
      "Requirement already satisfied: certifi>=2017.4.17 in /usr/local/lib/python3.10/dist-packages (from requests==2.31.0->arxiv==2.1.0) (2024.7.4)\n",
      "\u001b[33mWARNING: Running pip as the 'root' user can result in broken permissions and conflicting behaviour with the system package manager, possibly rendering your system unusable.It is recommended to use a virtual environment instead: https://pip.pypa.io/warnings/venv. Use the --root-user-action option if you know what you are doing and want to suppress this warning.\u001b[0m\u001b[33m\n",
      "\u001b[0mRequirement already satisfied: tqdm in /usr/local/lib/python3.10/dist-packages (4.66.4)\n",
      "\u001b[33mWARNING: Running pip as the 'root' user can result in broken permissions and conflicting behaviour with the system package manager, possibly rendering your system unusable.It is recommended to use a virtual environment instead: https://pip.pypa.io/warnings/venv. Use the --root-user-action option if you know what you are doing and want to suppress this warning.\u001b[0m\u001b[33m\n",
      "\u001b[0m"
     ]
    }
   ],
   "source": [
    "!pip3 install selenium\n",
    "!pip3 install webdriver-manager\n",
    "!pip3 install arxiv==2.1.0\n",
    "!pip3 install tqdm"
   ]
  },
  {
   "cell_type": "code",
   "execution_count": 2,
   "id": "7b3065af-a775-40bb-bfba-7479fc14e732",
   "metadata": {},
   "outputs": [],
   "source": [
    "import os\n",
    "import time\n",
    "import requests\n",
    "from tqdm import tqdm\n",
    "from bs4 import BeautifulSoup\n",
    "import arxiv"
   ]
  },
  {
   "cell_type": "markdown",
   "id": "7b09db56-f2a8-4aac-b957-73d4c10fc7cb",
   "metadata": {},
   "source": [
    "##  ICMLサイトから論文タイトルを取得"
   ]
  },
  {
   "cell_type": "code",
   "execution_count": 3,
   "id": "dcccf0e8-ab71-4aa0-92a7-b6ce78393818",
   "metadata": {
    "scrolled": true,
    "tags": []
   },
   "outputs": [],
   "source": [
    "\n",
    "# ICML 2024の採用論文リストページのURL\n",
    "icml_url = \"https://icml.cc/Downloads/2024?csrfmiddlewaretoken=OtP8bIlzu8ISV2jyQxdmHJD51dqmpzXSrpBgjNZnTgJ4w8ulxBeo23ApLLswZyhg&file_format=&posters=on&submitaction=Update+List&submitaction=Update+List\"\n",
    "\n",
    "# ページを取得\n",
    "response = requests.get(icml_url)\n",
    "soup = BeautifulSoup(response.content, 'html.parser')\n",
    "\n",
    "# 論文タイトルを抽出\n",
    "titles = []\n",
    "for link in soup.find_all('a', class_='Poster'):\n",
    "    titles.append(link.text.strip())\n",
    "\n",
    "# タイトルを確認\n",
    "# for title in titles:\n",
    "#     print(title)"
   ]
  },
  {
   "cell_type": "code",
   "execution_count": 4,
   "id": "cee8c4f1-d4fc-40a7-b6aa-63b57e0b3a11",
   "metadata": {},
   "outputs": [
    {
     "data": {
      "text/plain": [
       "2634"
      ]
     },
     "execution_count": 4,
     "metadata": {},
     "output_type": "execute_result"
    }
   ],
   "source": [
    "len(titles)"
   ]
  },
  {
   "cell_type": "markdown",
   "id": "a1ed3e5f-949b-4093-90c6-ac8329284a56",
   "metadata": {},
   "source": [
    "## Arxiv で論文を検索してChatGPT or LLMが概要に入っているPDFをダウンロード"
   ]
  },
  {
   "cell_type": "code",
   "execution_count": 5,
   "id": "78ed96ed-b80e-4462-a7fd-22e54d687920",
   "metadata": {},
   "outputs": [],
   "source": [
    "# 保存するディレクトリ\n",
    "save_dir = \"./icml_2024_papers\"\n",
    "if not os.path.exists(save_dir):\n",
    "    os.makedirs(save_dir)"
   ]
  },
  {
   "cell_type": "code",
   "execution_count": 6,
   "id": "07390f8e-dc9b-4f43-a04d-148ca521d43a",
   "metadata": {},
   "outputs": [],
   "source": [
    "def download_pdf_from_arxiv(title, save_dir):\n",
    "    search = arxiv.Search(\n",
    "        query=title,\n",
    "        max_results=1,\n",
    "        sort_by=arxiv.SortCriterion.Relevance\n",
    "    )\n",
    "    for result in search.results():\n",
    "        if 'ChatGPT' in result.summary or 'LLM' in result.summary or 'large language model' in result.summary:\n",
    "            pdf_url = result.pdf_url\n",
    "            response = requests.get(pdf_url, stream=True)\n",
    "            with open(os.path.join(save_dir, f\"{title}.pdf\"), 'wb') as f:\n",
    "                for data in response.iter_content(1024):\n",
    "                    f.write(data)\n",
    "            # print(f\"Downloaded: {title}\")\n",
    "        # else:\n",
    "            # print(f\"Skipped: {title} (no mention of ChatGPT or LLM)\")"
   ]
  },
  {
   "cell_type": "code",
   "execution_count": 7,
   "id": "b90c7bdb-b7d2-40c6-ba34-288e49a9d511",
   "metadata": {},
   "outputs": [
    {
     "name": "stderr",
     "output_type": "stream",
     "text": [
      "Total Progress:   0%|          | 0/2634 [00:00<?, ?it/s]/tmp/ipykernel_1797/4033538657.py:7: DeprecationWarning: The 'Search.results' method is deprecated, use 'Client.results' instead\n",
      "  for result in search.results():\n",
      "Total Progress: 100%|██████████| 2634/2634 [2:42:45<00:00,  3.71s/it]   \n"
     ]
    }
   ],
   "source": [
    "# タイトルを使ってArxivからPDFをダウンロード\n",
    "for title in tqdm(titles, desc=\"Total Progress\"):\n",
    "    try:\n",
    "        download_pdf_from_arxiv(title, save_dir)\n",
    "        time.sleep(1)  # ダウンロード間隔を1秒に設定\n",
    "    except Exception as e:\n",
    "        print(f\"Failed to download {title}: {e}\")"
   ]
  },
  {
   "cell_type": "code",
   "execution_count": null,
   "id": "d6ed445f-6b00-494b-b40c-038555481d3d",
   "metadata": {},
   "outputs": [],
   "source": []
  }
 ],
 "metadata": {
  "kernelspec": {
   "display_name": "Python 3 (ipykernel)",
   "language": "python",
   "name": "python3"
  },
  "language_info": {
   "codemirror_mode": {
    "name": "ipython",
    "version": 3
   },
   "file_extension": ".py",
   "mimetype": "text/x-python",
   "name": "python",
   "nbconvert_exporter": "python",
   "pygments_lexer": "ipython3",
   "version": "3.10.12"
  }
 },
 "nbformat": 4,
 "nbformat_minor": 5
}
