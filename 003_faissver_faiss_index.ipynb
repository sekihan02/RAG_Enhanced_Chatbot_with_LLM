{
 "cells": [
  {
   "cell_type": "markdown",
   "id": "21f337dd-34d6-407f-bbd1-b60546b384de",
   "metadata": {},
   "source": [
    "# LLMのRAGを使ったQABOT\n",
    "\n",
    "1. **データ取得**:\n",
    "    - ICML 2024の論文PDFを取得し、./icml_2024_papersディレクトリに格納する\n",
    "2. **データの埋め込みベクトル化**:\n",
    "    - 取得したPDFからテキストを抽出し、ベクトル化する。\n",
    "3. **検索インデックスの構築**:\n",
    "    - ベクトル化されたデータを元に検索インデックスを構築する。    <---- now\n",
    "4. **LLMのRAGモデルの設定**:\n",
    "    - 質問に対して関連する文書を検索し、その文書を基に回答を生成するRAGモデルを設定する。\n",
    "5. **QABOTの構築**:\n",
    "    - ユーザーインターフェースを作成し、ユーザーからの質問に対してRAGモデルを使って回答するQABOTを構築する。"
   ]
  },
  {
   "cell_type": "code",
   "execution_count": 1,
   "id": "e574d24b-d5d6-49e3-8d8d-12663f558f60",
   "metadata": {
    "scrolled": true,
    "tags": []
   },
   "outputs": [
    {
     "name": "stdout",
     "output_type": "stream",
     "text": [
      "Requirement already satisfied: faiss-gpu in /usr/local/lib/python3.10/dist-packages (1.7.2)\n",
      "\u001b[33mWARNING: Running pip as the 'root' user can result in broken permissions and conflicting behaviour with the system package manager, possibly rendering your system unusable.It is recommended to use a virtual environment instead: https://pip.pypa.io/warnings/venv. Use the --root-user-action option if you know what you are doing and want to suppress this warning.\u001b[0m\u001b[33m\n",
      "\u001b[0m"
     ]
    }
   ],
   "source": [
    "!pip3 install faiss-gpu"
   ]
  },
  {
   "cell_type": "code",
   "execution_count": 2,
   "id": "75aad1ee-ba0c-4c99-80d3-55aece2f2cf1",
   "metadata": {},
   "outputs": [],
   "source": [
    "import faiss\n",
    "import pandas as pd\n",
    "import numpy as np\n",
    "import os"
   ]
  },
  {
   "cell_type": "code",
   "execution_count": 3,
   "id": "0fed496d-eda2-4252-9039-501f15f584a2",
   "metadata": {
    "scrolled": true,
    "tags": []
   },
   "outputs": [
    {
     "data": {
      "text/plain": [
       "['A Bias-Variance-Covariance Decomposition of Kernel Scores for Generative Models_embeddings.csv',\n",
       " 'A Closer Look at the Limitations of Instruction Tuning_embeddings.csv',\n",
       " 'A Human-Inspired Reading Agent with Gist Memory of Very Long Contexts_embeddings.csv',\n",
       " 'A Language Model’s Guide Through Latent Space_embeddings.csv',\n",
       " 'A Multimodal Automated Interpretability Agent_embeddings.csv',\n",
       " 'A Sober Look at LLMs for Material Discovery: Are They Actually Good for Bayesian Optimization Over Molecules?_embeddings.csv',\n",
       " 'A Tale of Tails: Model Collapse as a Change of Scaling Laws_embeddings.csv',\n",
       " 'Active Preference Learning for Large Language Models_embeddings.csv',\n",
       " 'Adaptive Text Watermark for Large Language Models_embeddings.csv',\n",
       " 'Zero-Shot ECG Classification with Multimodal Learning and Test-time Clinical Knowledge Enhancement_embeddings.csv']"
      ]
     },
     "execution_count": 3,
     "metadata": {},
     "output_type": "execute_result"
    }
   ],
   "source": [
    "# 保存ディレクトリ\n",
    "save_dir = \"./icml_2024_embeddings\"\n",
    "\n",
    "# ディレクトリ内のファイル一覧を取得\n",
    "file_list = os.listdir(save_dir)\n",
    "file_list"
   ]
  },
  {
   "cell_type": "code",
   "execution_count": 4,
   "id": "2c08cf4e-a4c9-4e45-9de8-30136265b5bd",
   "metadata": {},
   "outputs": [],
   "source": [
    "# Faissインデックスの初期化\n",
    "dimension = None\n",
    "index = None\n",
    "file_mapping = []"
   ]
  },
  {
   "cell_type": "code",
   "execution_count": 5,
   "id": "133acfd3-6973-429b-b265-efbb242e62a0",
   "metadata": {},
   "outputs": [],
   "source": [
    "# CSVファイルを探して一つ選択\n",
    "file_name = next((f for f in file_list if f.endswith('.csv')), None)"
   ]
  },
  {
   "cell_type": "code",
   "execution_count": 6,
   "id": "5ea6aae8-8418-4fa3-8179-38655b87ab01",
   "metadata": {},
   "outputs": [],
   "source": [
    "for file_name in file_list:\n",
    "    file_path = os.path.join(save_dir, file_name)\n",
    "\n",
    "    # データフレームを読み込む\n",
    "    df = pd.read_csv(file_path)\n",
    "\n",
    "    # 埋め込みベクトルを抽出してNumPy配列に変換\n",
    "    embeddings = df.to_numpy().astype('float32')\n",
    "\n",
    "    # NumPy 配列を C-contiguous に変換\n",
    "    embeddings = np.ascontiguousarray(embeddings)\n",
    "\n",
    "    if dimension is None:\n",
    "        dimension = embeddings.shape[1]\n",
    "        index = faiss.IndexFlatL2(dimension)  # L2距離を使用するインデックスを作成\n",
    "\n",
    "    # 埋め込みベクトルをインデックスに追加\n",
    "    index.add(embeddings)\n",
    "\n",
    "    # ファイル名と埋め込みベクトルのマッピングを保存\n",
    "    for _ in range(embeddings.shape[0]):\n",
    "        file_mapping.append(file_name)"
   ]
  },
  {
   "cell_type": "code",
   "execution_count": 7,
   "id": "468ffbf1-173e-4747-8237-d5ea25da171a",
   "metadata": {},
   "outputs": [
    {
     "name": "stdout",
     "output_type": "stream",
     "text": [
      "Faiss index has been created and saved using all CSV files in ./icml_2024_embeddings.\n"
     ]
    }
   ],
   "source": [
    "# インデックスの保存\n",
    "faiss.write_index(index, \"faiss_index.index\")\n",
    "\n",
    "# マッピング情報の保存\n",
    "mapping_df = pd.DataFrame(file_mapping, columns=['file_name'])\n",
    "mapping_df.to_csv(\"file_mapping.csv\", index=False)\n",
    "\n",
    "print(f\"Faiss index has been created and saved using all CSV files in {save_dir}.\")"
   ]
  }
 ],
 "metadata": {
  "kernelspec": {
   "display_name": "Python 3 (ipykernel)",
   "language": "python",
   "name": "python3"
  },
  "language_info": {
   "codemirror_mode": {
    "name": "ipython",
    "version": 3
   },
   "file_extension": ".py",
   "mimetype": "text/x-python",
   "name": "python",
   "nbconvert_exporter": "python",
   "pygments_lexer": "ipython3",
   "version": "3.10.12"
  }
 },
 "nbformat": 4,
 "nbformat_minor": 5
}
